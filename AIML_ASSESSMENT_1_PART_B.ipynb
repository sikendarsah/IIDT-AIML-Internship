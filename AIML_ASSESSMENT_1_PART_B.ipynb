{
  "nbformat": 4,
  "nbformat_minor": 0,
  "metadata": {
    "colab": {
      "provenance": [],
      "toc_visible": true
    },
    "kernelspec": {
      "name": "python3",
      "display_name": "Python 3"
    },
    "language_info": {
      "name": "python"
    }
  },
  "cells": [
    {
      "cell_type": "markdown",
      "source": [
        "#**Python Sets and Dictionaries Task**"
      ],
      "metadata": {
        "id": "9MkmSB7zyCcX"
      }
    },
    {
      "cell_type": "code",
      "source": [
        "class DataAnalyzer:\n",
        "    def __init__(self):\n",
        "        self.dataset = set()\n",
        "        self.data_dict = {}\n",
        "\n",
        "    def add_to_set(self, item):\n",
        "        self.dataset.add(item)\n",
        "\n",
        "    def remove_from_set(self, item):\n",
        "        if item in self.dataset:\n",
        "            self.dataset.remove(item)\n",
        "        else:\n",
        "            print(\"Item not found in the set.\")\n",
        "\n",
        "    def get_set(self):\n",
        "        return self.dataset\n",
        "\n",
        "    def create_dictionary(self, key, value):\n",
        "        if key not in self.data_dict:\n",
        "            self.data_dict[key] = value\n",
        "        else:\n",
        "            print(\"Key already exists in the dictionary.\")\n",
        "\n",
        "    def update_dictionary(self, key, value):\n",
        "        if key in self.data_dict:\n",
        "            self.data_dict[key] = value\n",
        "        else:\n",
        "            print(\"Key not found in the dictionary.\")\n",
        "\n",
        "    def get_dictionary(self):\n",
        "        return self.data_dict\n",
        "\n",
        "    def search_dictionary(self, key):\n",
        "        if key in self.data_dict:\n",
        "            return self.data_dict[key]\n",
        "        else:\n",
        "            return None\n",
        "\n",
        "    def remove_from_dictionary(self, key):\n",
        "        if key in self.data_dict:\n",
        "            del self.data_dict[key]\n",
        "        else:\n",
        "            print(\"Key not found in the dictionary.\")\n",
        "\n",
        "\n",
        "# Example usage:\n",
        "\n",
        "analyzer = DataAnalyzer()"
      ],
      "metadata": {
        "id": "LhRutRMEyE8U"
      },
      "execution_count": 9,
      "outputs": []
    },
    {
      "cell_type": "code",
      "source": [
        "# Adding items to the set\n",
        "analyzer.add_to_set(10)\n",
        "analyzer.add_to_set(20)\n",
        "analyzer.add_to_set(30)\n",
        "print(\"Set after adding items:\", analyzer.get_set())\n"
      ],
      "metadata": {
        "colab": {
          "base_uri": "https://localhost:8080/"
        },
        "id": "hf8ZkcQfyMOU",
        "outputId": "40c6bd90-65a1-4692-c57c-51f329cdb9f8"
      },
      "execution_count": 10,
      "outputs": [
        {
          "output_type": "stream",
          "name": "stdout",
          "text": [
            "Set after adding items: {10, 20, 30}\n"
          ]
        }
      ]
    },
    {
      "cell_type": "code",
      "source": [
        "\n",
        "# Removing an item from the set\n",
        "analyzer.remove_from_set(20)\n",
        "print(\"Set after removing item:\", analyzer.get_set())\n",
        "\n"
      ],
      "metadata": {
        "colab": {
          "base_uri": "https://localhost:8080/"
        },
        "id": "82XY9bQ6yO4d",
        "outputId": "4473ceda-1c34-42ab-bd2c-c621ffdbfcfb"
      },
      "execution_count": 11,
      "outputs": [
        {
          "output_type": "stream",
          "name": "stdout",
          "text": [
            "Set after removing item: {10, 30}\n"
          ]
        }
      ]
    },
    {
      "cell_type": "code",
      "source": [
        "# Creating dictionary\n",
        "analyzer.create_dictionary('a', 1)\n",
        "analyzer.create_dictionary('b', 2)\n",
        "print(\"Dictionary:\", analyzer.get_dictionary())\n",
        "\n"
      ],
      "metadata": {
        "colab": {
          "base_uri": "https://localhost:8080/"
        },
        "id": "f7kmMJRLyRF2",
        "outputId": "cfbe56d2-cb63-4535-d1aa-041d59fb751d"
      },
      "execution_count": 12,
      "outputs": [
        {
          "output_type": "stream",
          "name": "stdout",
          "text": [
            "Dictionary: {'a': 1, 'b': 2}\n"
          ]
        }
      ]
    },
    {
      "cell_type": "code",
      "source": [
        "# Updating dictionary\n",
        "analyzer.update_dictionary('a', 100)\n",
        "print(\"Updated Dictionary:\", analyzer.get_dictionary())\n",
        "\n"
      ],
      "metadata": {
        "colab": {
          "base_uri": "https://localhost:8080/"
        },
        "id": "OwKuI937yT10",
        "outputId": "1ce93183-b700-4984-f420-016f5a8ddd57"
      },
      "execution_count": 13,
      "outputs": [
        {
          "output_type": "stream",
          "name": "stdout",
          "text": [
            "Updated Dictionary: {'a': 100, 'b': 2}\n"
          ]
        }
      ]
    },
    {
      "cell_type": "code",
      "source": [
        "# Searching dictionary\n",
        "print(\"Value for key 'a':\", analyzer.search_dictionary('a'))\n",
        "\n"
      ],
      "metadata": {
        "colab": {
          "base_uri": "https://localhost:8080/"
        },
        "id": "aeob-AxDyVKl",
        "outputId": "5908f5a3-9819-4a33-f111-db8c36899766"
      },
      "execution_count": 14,
      "outputs": [
        {
          "output_type": "stream",
          "name": "stdout",
          "text": [
            "Value for key 'a': 100\n"
          ]
        }
      ]
    },
    {
      "cell_type": "code",
      "source": [
        "# Removing from dictionary\n",
        "analyzer.remove_from_dictionary('b')\n",
        "print(\"Dictionary after removal:\", analyzer.get_dictionary())"
      ],
      "metadata": {
        "colab": {
          "base_uri": "https://localhost:8080/"
        },
        "id": "Xgqfet48yXW0",
        "outputId": "0ea2a1da-8ef1-4c2a-da53-e82302ac5251"
      },
      "execution_count": 15,
      "outputs": [
        {
          "output_type": "stream",
          "name": "stdout",
          "text": [
            "Dictionary after removal: {'a': 100}\n"
          ]
        }
      ]
    }
  ]
}